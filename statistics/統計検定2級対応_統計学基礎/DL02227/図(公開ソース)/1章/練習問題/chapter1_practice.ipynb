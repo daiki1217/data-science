{
 "cells": [
  {
   "cell_type": "markdown",
   "metadata": {},
   "source": [
    "# 第1章 練習問題\n",
    "## 問1.1"
   ]
  },
  {
   "cell_type": "code",
   "execution_count": 1,
   "metadata": {
    "collapsed": true
   },
   "outputs": [],
   "source": [
    "import numpy as np\n",
    "import pandas as pd\n",
    "import matplotlib.pyplot as plt\n",
    "from pandas import Series\n",
    "\n",
    "%matplotlib inline"
   ]
  },
  {
   "cell_type": "code",
   "execution_count": 2,
   "metadata": {
    "collapsed": false
   },
   "outputs": [],
   "source": [
    "whether = pd.read_csv('weather.csv', encoding='SHIFT-JIS')"
   ]
  },
  {
   "cell_type": "code",
   "execution_count": 3,
   "metadata": {
    "collapsed": false
   },
   "outputs": [
    {
     "data": {
      "text/html": [
       "<div>\n",
       "<table border=\"1\" class=\"dataframe\">\n",
       "  <thead>\n",
       "    <tr style=\"text-align: right;\">\n",
       "      <th></th>\n",
       "      <th>日</th>\n",
       "      <th>平均気温</th>\n",
       "      <th>平均湿度</th>\n",
       "      <th>日照時間</th>\n",
       "      <th>風向き</th>\n",
       "    </tr>\n",
       "  </thead>\n",
       "  <tbody>\n",
       "    <tr>\n",
       "      <th>0</th>\n",
       "      <td>1</td>\n",
       "      <td>6.6</td>\n",
       "      <td>33.0</td>\n",
       "      <td>7.9</td>\n",
       "      <td>北西</td>\n",
       "    </tr>\n",
       "    <tr>\n",
       "      <th>1</th>\n",
       "      <td>2</td>\n",
       "      <td>7.0</td>\n",
       "      <td>41.0</td>\n",
       "      <td>8.4</td>\n",
       "      <td>北北西</td>\n",
       "    </tr>\n",
       "    <tr>\n",
       "      <th>2</th>\n",
       "      <td>3</td>\n",
       "      <td>5.9</td>\n",
       "      <td>48.0</td>\n",
       "      <td>5.2</td>\n",
       "      <td>北北西</td>\n",
       "    </tr>\n",
       "    <tr>\n",
       "      <th>3</th>\n",
       "      <td>4</td>\n",
       "      <td>6.3</td>\n",
       "      <td>40.0</td>\n",
       "      <td>8.4</td>\n",
       "      <td>北西</td>\n",
       "    </tr>\n",
       "    <tr>\n",
       "      <th>4</th>\n",
       "      <td>5</td>\n",
       "      <td>7.3</td>\n",
       "      <td>39.0</td>\n",
       "      <td>7.4</td>\n",
       "      <td>南西</td>\n",
       "    </tr>\n",
       "    <tr>\n",
       "      <th>5</th>\n",
       "      <td>6</td>\n",
       "      <td>6.5</td>\n",
       "      <td>34.0</td>\n",
       "      <td>6.7</td>\n",
       "      <td>北西</td>\n",
       "    </tr>\n",
       "    <tr>\n",
       "      <th>6</th>\n",
       "      <td>7</td>\n",
       "      <td>4.0</td>\n",
       "      <td>25.0</td>\n",
       "      <td>9.2</td>\n",
       "      <td>北西</td>\n",
       "    </tr>\n",
       "    <tr>\n",
       "      <th>7</th>\n",
       "      <td>8</td>\n",
       "      <td>5.9</td>\n",
       "      <td>33.0</td>\n",
       "      <td>9.2</td>\n",
       "      <td>北北西</td>\n",
       "    </tr>\n",
       "    <tr>\n",
       "      <th>8</th>\n",
       "      <td>9</td>\n",
       "      <td>6.1</td>\n",
       "      <td>46.0</td>\n",
       "      <td>9.1</td>\n",
       "      <td>東北東</td>\n",
       "    </tr>\n",
       "    <tr>\n",
       "      <th>9</th>\n",
       "      <td>10</td>\n",
       "      <td>3.4</td>\n",
       "      <td>27.0</td>\n",
       "      <td>9.2</td>\n",
       "      <td>北北西</td>\n",
       "    </tr>\n",
       "    <tr>\n",
       "      <th>10</th>\n",
       "      <td>11</td>\n",
       "      <td>3.8</td>\n",
       "      <td>31.0</td>\n",
       "      <td>6.7</td>\n",
       "      <td>北北西</td>\n",
       "    </tr>\n",
       "    <tr>\n",
       "      <th>11</th>\n",
       "      <td>12</td>\n",
       "      <td>5.1</td>\n",
       "      <td>37.0</td>\n",
       "      <td>8.4</td>\n",
       "      <td>北北西</td>\n",
       "    </tr>\n",
       "    <tr>\n",
       "      <th>12</th>\n",
       "      <td>13</td>\n",
       "      <td>4.4</td>\n",
       "      <td>28.0</td>\n",
       "      <td>8.6</td>\n",
       "      <td>北北西</td>\n",
       "    </tr>\n",
       "    <tr>\n",
       "      <th>13</th>\n",
       "      <td>14</td>\n",
       "      <td>3.8</td>\n",
       "      <td>36.0</td>\n",
       "      <td>9.1</td>\n",
       "      <td>西北西</td>\n",
       "    </tr>\n",
       "    <tr>\n",
       "      <th>14</th>\n",
       "      <td>15</td>\n",
       "      <td>4.0</td>\n",
       "      <td>52.0</td>\n",
       "      <td>1.1</td>\n",
       "      <td>東北東</td>\n",
       "    </tr>\n",
       "    <tr>\n",
       "      <th>15</th>\n",
       "      <td>16</td>\n",
       "      <td>2.2</td>\n",
       "      <td>39.0</td>\n",
       "      <td>8.2</td>\n",
       "      <td>北北西</td>\n",
       "    </tr>\n",
       "    <tr>\n",
       "      <th>16</th>\n",
       "      <td>17</td>\n",
       "      <td>5.0</td>\n",
       "      <td>26.0</td>\n",
       "      <td>8.7</td>\n",
       "      <td>北北西</td>\n",
       "    </tr>\n",
       "    <tr>\n",
       "      <th>17</th>\n",
       "      <td>18</td>\n",
       "      <td>5.5</td>\n",
       "      <td>36.0</td>\n",
       "      <td>9.4</td>\n",
       "      <td>北西</td>\n",
       "    </tr>\n",
       "    <tr>\n",
       "      <th>18</th>\n",
       "      <td>19</td>\n",
       "      <td>6.3</td>\n",
       "      <td>41.0</td>\n",
       "      <td>9.3</td>\n",
       "      <td>北北西</td>\n",
       "    </tr>\n",
       "    <tr>\n",
       "      <th>19</th>\n",
       "      <td>20</td>\n",
       "      <td>5.4</td>\n",
       "      <td>31.0</td>\n",
       "      <td>9.4</td>\n",
       "      <td>北北西</td>\n",
       "    </tr>\n",
       "    <tr>\n",
       "      <th>20</th>\n",
       "      <td>21</td>\n",
       "      <td>5.0</td>\n",
       "      <td>28.0</td>\n",
       "      <td>9.3</td>\n",
       "      <td>北西</td>\n",
       "    </tr>\n",
       "    <tr>\n",
       "      <th>21</th>\n",
       "      <td>22</td>\n",
       "      <td>6.0</td>\n",
       "      <td>34.0</td>\n",
       "      <td>9.4</td>\n",
       "      <td>北北西</td>\n",
       "    </tr>\n",
       "    <tr>\n",
       "      <th>22</th>\n",
       "      <td>23</td>\n",
       "      <td>5.7</td>\n",
       "      <td>42.0</td>\n",
       "      <td>6.3</td>\n",
       "      <td>南東</td>\n",
       "    </tr>\n",
       "    <tr>\n",
       "      <th>23</th>\n",
       "      <td>24</td>\n",
       "      <td>5.1</td>\n",
       "      <td>65.0</td>\n",
       "      <td>3.5</td>\n",
       "      <td>北西</td>\n",
       "    </tr>\n",
       "    <tr>\n",
       "      <th>24</th>\n",
       "      <td>25</td>\n",
       "      <td>5.9</td>\n",
       "      <td>34.0</td>\n",
       "      <td>8.6</td>\n",
       "      <td>北西</td>\n",
       "    </tr>\n",
       "    <tr>\n",
       "      <th>25</th>\n",
       "      <td>26</td>\n",
       "      <td>5.3</td>\n",
       "      <td>37.0</td>\n",
       "      <td>7.3</td>\n",
       "      <td>北西</td>\n",
       "    </tr>\n",
       "    <tr>\n",
       "      <th>26</th>\n",
       "      <td>27</td>\n",
       "      <td>5.5</td>\n",
       "      <td>28.0</td>\n",
       "      <td>8.0</td>\n",
       "      <td>北北西</td>\n",
       "    </tr>\n",
       "    <tr>\n",
       "      <th>27</th>\n",
       "      <td>28</td>\n",
       "      <td>3.7</td>\n",
       "      <td>30.0</td>\n",
       "      <td>9.3</td>\n",
       "      <td>北北西</td>\n",
       "    </tr>\n",
       "    <tr>\n",
       "      <th>28</th>\n",
       "      <td>29</td>\n",
       "      <td>4.2</td>\n",
       "      <td>40.0</td>\n",
       "      <td>7.8</td>\n",
       "      <td>北北西</td>\n",
       "    </tr>\n",
       "    <tr>\n",
       "      <th>29</th>\n",
       "      <td>30</td>\n",
       "      <td>2.9</td>\n",
       "      <td>34.0</td>\n",
       "      <td>5.1</td>\n",
       "      <td>北西</td>\n",
       "    </tr>\n",
       "    <tr>\n",
       "      <th>30</th>\n",
       "      <td>31</td>\n",
       "      <td>2.9</td>\n",
       "      <td>28.0</td>\n",
       "      <td>9.7</td>\n",
       "      <td>西北西</td>\n",
       "    </tr>\n",
       "  </tbody>\n",
       "</table>\n",
       "</div>"
      ],
      "text/plain": [
       "     日  平均気温  平均湿度  日照時間  風向き\n",
       "0    1   6.6  33.0   7.9   北西\n",
       "1    2   7.0  41.0   8.4  北北西\n",
       "2    3   5.9  48.0   5.2  北北西\n",
       "3    4   6.3  40.0   8.4   北西\n",
       "4    5   7.3  39.0   7.4   南西\n",
       "5    6   6.5  34.0   6.7   北西\n",
       "6    7   4.0  25.0   9.2   北西\n",
       "7    8   5.9  33.0   9.2  北北西\n",
       "8    9   6.1  46.0   9.1  東北東\n",
       "9   10   3.4  27.0   9.2  北北西\n",
       "10  11   3.8  31.0   6.7  北北西\n",
       "11  12   5.1  37.0   8.4  北北西\n",
       "12  13   4.4  28.0   8.6  北北西\n",
       "13  14   3.8  36.0   9.1  西北西\n",
       "14  15   4.0  52.0   1.1  東北東\n",
       "15  16   2.2  39.0   8.2  北北西\n",
       "16  17   5.0  26.0   8.7  北北西\n",
       "17  18   5.5  36.0   9.4   北西\n",
       "18  19   6.3  41.0   9.3  北北西\n",
       "19  20   5.4  31.0   9.4  北北西\n",
       "20  21   5.0  28.0   9.3   北西\n",
       "21  22   6.0  34.0   9.4  北北西\n",
       "22  23   5.7  42.0   6.3   南東\n",
       "23  24   5.1  65.0   3.5   北西\n",
       "24  25   5.9  34.0   8.6   北西\n",
       "25  26   5.3  37.0   7.3   北西\n",
       "26  27   5.5  28.0   8.0  北北西\n",
       "27  28   3.7  30.0   9.3  北北西\n",
       "28  29   4.2  40.0   7.8  北北西\n",
       "29  30   2.9  34.0   5.1   北西\n",
       "30  31   2.9  28.0   9.7  西北西"
      ]
     },
     "execution_count": 3,
     "metadata": {},
     "output_type": "execute_result"
    }
   ],
   "source": [
    "whether"
   ]
  },
  {
   "cell_type": "markdown",
   "metadata": {},
   "source": [
    "### (1) これら4つの変数は質的変数、量的変数のどちらであるかを述べよ。\n",
    "- A. 風向きは質的変数、それ以外は量的変数。\n",
    "\n",
    "### (2) 平均気温を度数分布表にまとめ、それに基づくヒストグラムを描き、図1.4の4つのパターンのどの形になっているか考えよ。"
   ]
  },
  {
   "cell_type": "code",
   "execution_count": 4,
   "metadata": {
    "collapsed": false
   },
   "outputs": [
    {
     "data": {
      "text/plain": [
       "平均気温\n",
       "2.2    1\n",
       "2.9    2\n",
       "3.4    1\n",
       "3.7    1\n",
       "3.8    2\n",
       "4.0    2\n",
       "4.2    1\n",
       "4.4    1\n",
       "5.0    2\n",
       "5.1    2\n",
       "5.3    1\n",
       "5.4    1\n",
       "5.5    2\n",
       "5.7    1\n",
       "5.9    3\n",
       "6.0    1\n",
       "6.1    1\n",
       "6.3    2\n",
       "6.5    1\n",
       "6.6    1\n",
       "7.0    1\n",
       "7.3    1\n",
       "Name: 日, dtype: int64"
      ]
     },
     "execution_count": 4,
     "metadata": {},
     "output_type": "execute_result"
    }
   ],
   "source": [
    "whether.groupby('平均気温')['日'].count()"
   ]
  },
  {
   "cell_type": "code",
   "execution_count": 5,
   "metadata": {
    "collapsed": false
   },
   "outputs": [],
   "source": [
    "frequency = whether.groupby('平均気温')['日'].count().apply(lambda x: pd.Series([x], index=['frequency']))"
   ]
  },
  {
   "cell_type": "code",
   "execution_count": 6,
   "metadata": {
    "collapsed": false
   },
   "outputs": [
    {
     "data": {
      "text/html": [
       "<div>\n",
       "<table border=\"1\" class=\"dataframe\">\n",
       "  <thead>\n",
       "    <tr style=\"text-align: right;\">\n",
       "      <th></th>\n",
       "      <th>frequency</th>\n",
       "    </tr>\n",
       "    <tr>\n",
       "      <th>平均気温</th>\n",
       "      <th></th>\n",
       "    </tr>\n",
       "  </thead>\n",
       "  <tbody>\n",
       "    <tr>\n",
       "      <th>2.2</th>\n",
       "      <td>1</td>\n",
       "    </tr>\n",
       "    <tr>\n",
       "      <th>2.9</th>\n",
       "      <td>2</td>\n",
       "    </tr>\n",
       "    <tr>\n",
       "      <th>3.4</th>\n",
       "      <td>1</td>\n",
       "    </tr>\n",
       "    <tr>\n",
       "      <th>3.7</th>\n",
       "      <td>1</td>\n",
       "    </tr>\n",
       "    <tr>\n",
       "      <th>3.8</th>\n",
       "      <td>2</td>\n",
       "    </tr>\n",
       "    <tr>\n",
       "      <th>4.0</th>\n",
       "      <td>2</td>\n",
       "    </tr>\n",
       "    <tr>\n",
       "      <th>4.2</th>\n",
       "      <td>1</td>\n",
       "    </tr>\n",
       "    <tr>\n",
       "      <th>4.4</th>\n",
       "      <td>1</td>\n",
       "    </tr>\n",
       "    <tr>\n",
       "      <th>5.0</th>\n",
       "      <td>2</td>\n",
       "    </tr>\n",
       "    <tr>\n",
       "      <th>5.1</th>\n",
       "      <td>2</td>\n",
       "    </tr>\n",
       "    <tr>\n",
       "      <th>5.3</th>\n",
       "      <td>1</td>\n",
       "    </tr>\n",
       "    <tr>\n",
       "      <th>5.4</th>\n",
       "      <td>1</td>\n",
       "    </tr>\n",
       "    <tr>\n",
       "      <th>5.5</th>\n",
       "      <td>2</td>\n",
       "    </tr>\n",
       "    <tr>\n",
       "      <th>5.7</th>\n",
       "      <td>1</td>\n",
       "    </tr>\n",
       "    <tr>\n",
       "      <th>5.9</th>\n",
       "      <td>3</td>\n",
       "    </tr>\n",
       "    <tr>\n",
       "      <th>6.0</th>\n",
       "      <td>1</td>\n",
       "    </tr>\n",
       "    <tr>\n",
       "      <th>6.1</th>\n",
       "      <td>1</td>\n",
       "    </tr>\n",
       "    <tr>\n",
       "      <th>6.3</th>\n",
       "      <td>2</td>\n",
       "    </tr>\n",
       "    <tr>\n",
       "      <th>6.5</th>\n",
       "      <td>1</td>\n",
       "    </tr>\n",
       "    <tr>\n",
       "      <th>6.6</th>\n",
       "      <td>1</td>\n",
       "    </tr>\n",
       "    <tr>\n",
       "      <th>7.0</th>\n",
       "      <td>1</td>\n",
       "    </tr>\n",
       "    <tr>\n",
       "      <th>7.3</th>\n",
       "      <td>1</td>\n",
       "    </tr>\n",
       "  </tbody>\n",
       "</table>\n",
       "</div>"
      ],
      "text/plain": [
       "      frequency\n",
       "平均気温           \n",
       "2.2           1\n",
       "2.9           2\n",
       "3.4           1\n",
       "3.7           1\n",
       "3.8           2\n",
       "4.0           2\n",
       "4.2           1\n",
       "4.4           1\n",
       "5.0           2\n",
       "5.1           2\n",
       "5.3           1\n",
       "5.4           1\n",
       "5.5           2\n",
       "5.7           1\n",
       "5.9           3\n",
       "6.0           1\n",
       "6.1           1\n",
       "6.3           2\n",
       "6.5           1\n",
       "6.6           1\n",
       "7.0           1\n",
       "7.3           1"
      ]
     },
     "execution_count": 6,
     "metadata": {},
     "output_type": "execute_result"
    }
   ],
   "source": [
    "frequency"
   ]
  },
  {
   "cell_type": "code",
   "execution_count": 7,
   "metadata": {
    "collapsed": false
   },
   "outputs": [
    {
     "data": {
      "text/plain": [
       "pandas.core.frame.DataFrame"
      ]
     },
     "execution_count": 7,
     "metadata": {},
     "output_type": "execute_result"
    }
   ],
   "source": [
    "type(frequency)"
   ]
  },
  {
   "cell_type": "code",
   "execution_count": 8,
   "metadata": {
    "collapsed": false
   },
   "outputs": [],
   "source": [
    "c = pd.cut(frequency.index, np.arange(1, 10, 0.5))"
   ]
  },
  {
   "cell_type": "code",
   "execution_count": 9,
   "metadata": {
    "collapsed": false
   },
   "outputs": [
    {
     "data": {
      "text/plain": [
       "[(2, 2.5], (2.5, 3], (3, 3.5], (3.5, 4], (3.5, 4], ..., (6, 6.5], (6, 6.5], (6.5, 7], (6.5, 7], (7, 7.5]]\n",
       "Length: 22\n",
       "Categories (17, object): [(1, 1.5] < (1.5, 2] < (2, 2.5] < (2.5, 3] ... (7.5, 8] < (8, 8.5] < (8.5, 9] < (9, 9.5]]"
      ]
     },
     "execution_count": 9,
     "metadata": {},
     "output_type": "execute_result"
    }
   ],
   "source": [
    "c"
   ]
  },
  {
   "cell_type": "code",
   "execution_count": 10,
   "metadata": {
    "collapsed": false
   },
   "outputs": [
    {
     "data": {
      "text/html": [
       "<div>\n",
       "<table border=\"1\" class=\"dataframe\">\n",
       "  <thead>\n",
       "    <tr style=\"text-align: right;\">\n",
       "      <th></th>\n",
       "      <th>frequency</th>\n",
       "    </tr>\n",
       "  </thead>\n",
       "  <tbody>\n",
       "    <tr>\n",
       "      <th>(1, 1.5]</th>\n",
       "      <td>NaN</td>\n",
       "    </tr>\n",
       "    <tr>\n",
       "      <th>(1.5, 2]</th>\n",
       "      <td>NaN</td>\n",
       "    </tr>\n",
       "    <tr>\n",
       "      <th>(2, 2.5]</th>\n",
       "      <td>1.0</td>\n",
       "    </tr>\n",
       "    <tr>\n",
       "      <th>(2.5, 3]</th>\n",
       "      <td>2.0</td>\n",
       "    </tr>\n",
       "    <tr>\n",
       "      <th>(3, 3.5]</th>\n",
       "      <td>1.0</td>\n",
       "    </tr>\n",
       "    <tr>\n",
       "      <th>(3.5, 4]</th>\n",
       "      <td>5.0</td>\n",
       "    </tr>\n",
       "    <tr>\n",
       "      <th>(4, 4.5]</th>\n",
       "      <td>2.0</td>\n",
       "    </tr>\n",
       "    <tr>\n",
       "      <th>(4.5, 5]</th>\n",
       "      <td>2.0</td>\n",
       "    </tr>\n",
       "    <tr>\n",
       "      <th>(5, 5.5]</th>\n",
       "      <td>6.0</td>\n",
       "    </tr>\n",
       "    <tr>\n",
       "      <th>(5.5, 6]</th>\n",
       "      <td>5.0</td>\n",
       "    </tr>\n",
       "    <tr>\n",
       "      <th>(6, 6.5]</th>\n",
       "      <td>4.0</td>\n",
       "    </tr>\n",
       "    <tr>\n",
       "      <th>(6.5, 7]</th>\n",
       "      <td>2.0</td>\n",
       "    </tr>\n",
       "    <tr>\n",
       "      <th>(7, 7.5]</th>\n",
       "      <td>1.0</td>\n",
       "    </tr>\n",
       "    <tr>\n",
       "      <th>(7.5, 8]</th>\n",
       "      <td>NaN</td>\n",
       "    </tr>\n",
       "    <tr>\n",
       "      <th>(8, 8.5]</th>\n",
       "      <td>NaN</td>\n",
       "    </tr>\n",
       "    <tr>\n",
       "      <th>(8.5, 9]</th>\n",
       "      <td>NaN</td>\n",
       "    </tr>\n",
       "    <tr>\n",
       "      <th>(9, 9.5]</th>\n",
       "      <td>NaN</td>\n",
       "    </tr>\n",
       "  </tbody>\n",
       "</table>\n",
       "</div>"
      ],
      "text/plain": [
       "          frequency\n",
       "(1, 1.5]        NaN\n",
       "(1.5, 2]        NaN\n",
       "(2, 2.5]        1.0\n",
       "(2.5, 3]        2.0\n",
       "(3, 3.5]        1.0\n",
       "(3.5, 4]        5.0\n",
       "(4, 4.5]        2.0\n",
       "(4.5, 5]        2.0\n",
       "(5, 5.5]        6.0\n",
       "(5.5, 6]        5.0\n",
       "(6, 6.5]        4.0\n",
       "(6.5, 7]        2.0\n",
       "(7, 7.5]        1.0\n",
       "(7.5, 8]        NaN\n",
       "(8, 8.5]        NaN\n",
       "(8.5, 9]        NaN\n",
       "(9, 9.5]        NaN"
      ]
     },
     "execution_count": 10,
     "metadata": {},
     "output_type": "execute_result"
    }
   ],
   "source": [
    "classfied_frequency = frequency.groupby(c).sum()\n",
    "classfied_frequency"
   ]
  },
  {
   "cell_type": "code",
   "execution_count": 11,
   "metadata": {
    "collapsed": false
   },
   "outputs": [
    {
     "data": {
      "image/png": "[encoded data removed]",
      "text/plain": [
       "<matplotlib.figure.Figure at 0x1cfe533748>"
      ]
     },
     "metadata": {},
     "output_type": "display_data"
    }
   ],
   "source": [
    "classfied_frequency.plot(kind='bar')\n",
    "plt.show()"
   ]
  },
  {
   "cell_type": "markdown",
   "metadata": {},
   "source": [
    "- (2).答え\n",
    "    - 代表的な4つのパターンにあてはまらない？\n",
    "    - 強いてあてはめるなら、左に裾が長い。\n",
    "    \n",
    "### (3) 平均気温、平均湿度、日照時間の平均、分散(データの大きさnで割る)、標準偏差を求めよ。"
   ]
  },
  {
   "cell_type": "code",
   "execution_count": 12,
   "metadata": {
    "collapsed": false
   },
   "outputs": [
    {
     "data": {
      "text/plain": [
       "count    31.000000\n",
       "mean      5.054839\n",
       "std       1.291985\n",
       "min       2.200000\n",
       "25%       4.000000\n",
       "50%       5.300000\n",
       "75%       5.950000\n",
       "max       7.300000\n",
       "Name: 平均気温, dtype: float64"
      ]
     },
     "execution_count": 12,
     "metadata": {},
     "output_type": "execute_result"
    }
   ],
   "source": [
    "# 平均気温の基本統計量\n",
    "whether['平均気温'].describe()"
   ]
  },
  {
   "cell_type": "code",
   "execution_count": 13,
   "metadata": {
    "collapsed": false
   },
   "outputs": [
    {
     "data": {
      "text/plain": [
       "1.6153798126951084"
      ]
     },
     "execution_count": 13,
     "metadata": {},
     "output_type": "execute_result"
    }
   ],
   "source": [
    "# 平均気温の標本分散(データの大きさnで割る)\n",
    "whether['平均気温'].var(ddof=False)"
   ]
  },
  {
   "cell_type": "markdown",
   "metadata": {},
   "source": [
    "### (4) 平均気温について累積相対度数分布表を示せ。また、累積分布図を描け。"
   ]
  },
  {
   "cell_type": "code",
   "execution_count": 14,
   "metadata": {
    "collapsed": false
   },
   "outputs": [
    {
     "data": {
      "text/html": [
       "<div>\n",
       "<table border=\"1\" class=\"dataframe\">\n",
       "  <thead>\n",
       "    <tr style=\"text-align: right;\">\n",
       "      <th></th>\n",
       "      <th>frequency</th>\n",
       "    </tr>\n",
       "  </thead>\n",
       "  <tbody>\n",
       "    <tr>\n",
       "      <th>(1, 1.5]</th>\n",
       "      <td>NaN</td>\n",
       "    </tr>\n",
       "    <tr>\n",
       "      <th>(1.5, 2]</th>\n",
       "      <td>NaN</td>\n",
       "    </tr>\n",
       "    <tr>\n",
       "      <th>(2, 2.5]</th>\n",
       "      <td>1.0</td>\n",
       "    </tr>\n",
       "    <tr>\n",
       "      <th>(2.5, 3]</th>\n",
       "      <td>3.0</td>\n",
       "    </tr>\n",
       "    <tr>\n",
       "      <th>(3, 3.5]</th>\n",
       "      <td>4.0</td>\n",
       "    </tr>\n",
       "    <tr>\n",
       "      <th>(3.5, 4]</th>\n",
       "      <td>9.0</td>\n",
       "    </tr>\n",
       "    <tr>\n",
       "      <th>(4, 4.5]</th>\n",
       "      <td>11.0</td>\n",
       "    </tr>\n",
       "    <tr>\n",
       "      <th>(4.5, 5]</th>\n",
       "      <td>13.0</td>\n",
       "    </tr>\n",
       "    <tr>\n",
       "      <th>(5, 5.5]</th>\n",
       "      <td>19.0</td>\n",
       "    </tr>\n",
       "    <tr>\n",
       "      <th>(5.5, 6]</th>\n",
       "      <td>24.0</td>\n",
       "    </tr>\n",
       "    <tr>\n",
       "      <th>(6, 6.5]</th>\n",
       "      <td>28.0</td>\n",
       "    </tr>\n",
       "    <tr>\n",
       "      <th>(6.5, 7]</th>\n",
       "      <td>30.0</td>\n",
       "    </tr>\n",
       "    <tr>\n",
       "      <th>(7, 7.5]</th>\n",
       "      <td>31.0</td>\n",
       "    </tr>\n",
       "    <tr>\n",
       "      <th>(7.5, 8]</th>\n",
       "      <td>NaN</td>\n",
       "    </tr>\n",
       "    <tr>\n",
       "      <th>(8, 8.5]</th>\n",
       "      <td>NaN</td>\n",
       "    </tr>\n",
       "    <tr>\n",
       "      <th>(8.5, 9]</th>\n",
       "      <td>NaN</td>\n",
       "    </tr>\n",
       "    <tr>\n",
       "      <th>(9, 9.5]</th>\n",
       "      <td>NaN</td>\n",
       "    </tr>\n",
       "  </tbody>\n",
       "</table>\n",
       "</div>"
      ],
      "text/plain": [
       "          frequency\n",
       "(1, 1.5]        NaN\n",
       "(1.5, 2]        NaN\n",
       "(2, 2.5]        1.0\n",
       "(2.5, 3]        3.0\n",
       "(3, 3.5]        4.0\n",
       "(3.5, 4]        9.0\n",
       "(4, 4.5]       11.0\n",
       "(4.5, 5]       13.0\n",
       "(5, 5.5]       19.0\n",
       "(5.5, 6]       24.0\n",
       "(6, 6.5]       28.0\n",
       "(6.5, 7]       30.0\n",
       "(7, 7.5]       31.0\n",
       "(7.5, 8]        NaN\n",
       "(8, 8.5]        NaN\n",
       "(8.5, 9]        NaN\n",
       "(9, 9.5]        NaN"
      ]
     },
     "execution_count": 14,
     "metadata": {},
     "output_type": "execute_result"
    }
   ],
   "source": [
    "cumulation_frequency = classfied_frequency.cumsum()\n",
    "cumulation_frequency"
   ]
  },
  {
   "cell_type": "code",
   "execution_count": 15,
   "metadata": {
    "collapsed": false
   },
   "outputs": [
    {
     "data": {
      "image/png": "[encoded data removed]",
      "text/plain": [
       "<matplotlib.figure.Figure at 0x1cfe761588>"
      ]
     },
     "metadata": {},
     "output_type": "display_data"
    }
   ],
   "source": [
    "cumulation_frequency.plot()\n",
    "plt.show()"
   ]
  },
  {
   "cell_type": "markdown",
   "metadata": {},
   "source": [
    "### (5) 風向きについて度数と相対度数の表にまとめ、度数を棒グラフで描け。"
   ]
  },
  {
   "cell_type": "code",
   "execution_count": 16,
   "metadata": {
    "collapsed": false
   },
   "outputs": [
    {
     "data": {
      "text/html": [
       "<div>\n",
       "<table border=\"1\" class=\"dataframe\">\n",
       "  <thead>\n",
       "    <tr style=\"text-align: right;\">\n",
       "      <th></th>\n",
       "      <th>freq_wind</th>\n",
       "    </tr>\n",
       "    <tr>\n",
       "      <th>風向き</th>\n",
       "      <th></th>\n",
       "    </tr>\n",
       "  </thead>\n",
       "  <tbody>\n",
       "    <tr>\n",
       "      <th>北北西</th>\n",
       "      <td>15</td>\n",
       "    </tr>\n",
       "    <tr>\n",
       "      <th>北西</th>\n",
       "      <td>10</td>\n",
       "    </tr>\n",
       "    <tr>\n",
       "      <th>南東</th>\n",
       "      <td>1</td>\n",
       "    </tr>\n",
       "    <tr>\n",
       "      <th>南西</th>\n",
       "      <td>1</td>\n",
       "    </tr>\n",
       "    <tr>\n",
       "      <th>東北東</th>\n",
       "      <td>2</td>\n",
       "    </tr>\n",
       "    <tr>\n",
       "      <th>西北西</th>\n",
       "      <td>2</td>\n",
       "    </tr>\n",
       "  </tbody>\n",
       "</table>\n",
       "</div>"
      ],
      "text/plain": [
       "     freq_wind\n",
       "風向き           \n",
       "北北西         15\n",
       "北西          10\n",
       "南東           1\n",
       "南西           1\n",
       "東北東          2\n",
       "西北西          2"
      ]
     },
     "execution_count": 16,
     "metadata": {},
     "output_type": "execute_result"
    }
   ],
   "source": [
    "# 度数\n",
    "freq_wind = whether.groupby('風向き')['日'].count().apply(lambda x: pd.Series([x], index=['freq_wind']))\n",
    "freq_wind"
   ]
  },
  {
   "cell_type": "code",
   "execution_count": 17,
   "metadata": {
    "collapsed": false
   },
   "outputs": [
    {
     "data": {
      "text/html": [
       "<div>\n",
       "<table border=\"1\" class=\"dataframe\">\n",
       "  <thead>\n",
       "    <tr style=\"text-align: right;\">\n",
       "      <th></th>\n",
       "      <th>freq_wind</th>\n",
       "      <th>relative_freq</th>\n",
       "    </tr>\n",
       "    <tr>\n",
       "      <th>風向き</th>\n",
       "      <th></th>\n",
       "      <th></th>\n",
       "    </tr>\n",
       "  </thead>\n",
       "  <tbody>\n",
       "    <tr>\n",
       "      <th>北北西</th>\n",
       "      <td>15</td>\n",
       "      <td>0.483871</td>\n",
       "    </tr>\n",
       "    <tr>\n",
       "      <th>北西</th>\n",
       "      <td>10</td>\n",
       "      <td>0.322581</td>\n",
       "    </tr>\n",
       "    <tr>\n",
       "      <th>南東</th>\n",
       "      <td>1</td>\n",
       "      <td>0.032258</td>\n",
       "    </tr>\n",
       "    <tr>\n",
       "      <th>南西</th>\n",
       "      <td>1</td>\n",
       "      <td>0.032258</td>\n",
       "    </tr>\n",
       "    <tr>\n",
       "      <th>東北東</th>\n",
       "      <td>2</td>\n",
       "      <td>0.064516</td>\n",
       "    </tr>\n",
       "    <tr>\n",
       "      <th>西北西</th>\n",
       "      <td>2</td>\n",
       "      <td>0.064516</td>\n",
       "    </tr>\n",
       "  </tbody>\n",
       "</table>\n",
       "</div>"
      ],
      "text/plain": [
       "     freq_wind  relative_freq\n",
       "風向き                          \n",
       "北北西         15       0.483871\n",
       "北西          10       0.322581\n",
       "南東           1       0.032258\n",
       "南西           1       0.032258\n",
       "東北東          2       0.064516\n",
       "西北西          2       0.064516"
      ]
     },
     "execution_count": 17,
     "metadata": {},
     "output_type": "execute_result"
    }
   ],
   "source": [
    "# 相対度数の列を追加する\n",
    "freq_wind['relative_freq'] = freq_wind / freq_wind.sum()\n",
    "freq_wind"
   ]
  },
  {
   "cell_type": "code",
   "execution_count": 18,
   "metadata": {
    "collapsed": false
   },
   "outputs": [
    {
     "data": {
      "image/png": "[encoded data removed]",
      "text/plain": [
       "<matplotlib.figure.Figure at 0x1cfee7a9b0>"
      ]
     },
     "metadata": {},
     "output_type": "display_data"
    }
   ],
   "source": [
    "freq_wind.sort_values(by='freq_wind', ascending=False, inplace=True)\n",
    "freq_wind['freq_wind'].plot(kind='bar')\n",
    "plt.show()"
   ]
  },
  {
   "cell_type": "markdown",
   "metadata": {
    "collapsed": true
   },
   "source": [
    "### (6) 平均気温について5数要約を示し、それに基づく箱ひげ図を描け。"
   ]
  },
  {
   "cell_type": "code",
   "execution_count": 19,
   "metadata": {
    "collapsed": false
   },
   "outputs": [
    {
     "data": {
      "text/plain": [
       "count    31.000000\n",
       "mean      5.054839\n",
       "std       1.291985\n",
       "min       2.200000\n",
       "25%       4.000000\n",
       "50%       5.300000\n",
       "75%       5.950000\n",
       "max       7.300000\n",
       "Name: 平均気温, dtype: float64"
      ]
     },
     "execution_count": 19,
     "metadata": {},
     "output_type": "execute_result"
    }
   ],
   "source": [
    "whether['平均気温'].describe()"
   ]
  },
  {
   "cell_type": "code",
   "execution_count": 25,
   "metadata": {
    "collapsed": false
   },
   "outputs": [
    {
     "data": {
      "image/png": "[encoded data removed]",
      "text/plain": [
       "<matplotlib.figure.Figure at 0x1c809109b0>"
      ]
     },
     "metadata": {},
     "output_type": "display_data"
    }
   ],
   "source": [
    "plt.boxplot(whether['平均気温'])\n",
    "plt.ylabel('平均気温')\n",
    "plt.show()"
   ]
  },
  {
   "cell_type": "markdown",
   "metadata": {},
   "source": [
    "### (7) 平均気温、平均湿度、日照時間について3つの散布図を描き、それぞれの相関係数を求め考察せよ。"
   ]
  },
  {
   "cell_type": "code",
   "execution_count": 38,
   "metadata": {
    "collapsed": false
   },
   "outputs": [
    {
     "data": {
      "image/png": "[encoded data removed]",
      "text/plain": [
       "<matplotlib.figure.Figure at 0x1c81086780>"
      ]
     },
     "metadata": {},
     "output_type": "display_data"
    }
   ],
   "source": [
    "fig, (left, center, right) = plt.subplots(ncols=3, figsize=(17, 5))\n",
    "\n",
    "left.scatter(whether['平均気温'], whether['平均湿度'])\n",
    "left.set_xlabel('平均気温')\n",
    "left.set_ylabel('平均湿度')\n",
    "left.grid(True)\n",
    "\n",
    "center.scatter(whether['平均気温'], whether['日照時間'])\n",
    "center.set_xlabel('平均気温')\n",
    "center.set_ylabel('日照時間')\n",
    "center.grid(True)\n",
    "\n",
    "right.scatter(whether['平均湿度'], whether['日照時間'])\n",
    "right.set_xlabel('平均湿度')\n",
    "right.set_ylabel('日照時間')\n",
    "right.grid(True)"
   ]
  },
  {
   "cell_type": "code",
   "execution_count": null,
   "metadata": {
    "collapsed": true
   },
   "outputs": [],
   "source": []
  }
 ],
 "metadata": {
  "anaconda-cloud": {},
  "kernelspec": {
   "display_name": "Python [Root]",
   "language": "python",
   "name": "Python [Root]"
  },
  "language_info": {
   "codemirror_mode": {
    "name": "ipython",
    "version": 3
   },
   "file_extension": ".py",
   "mimetype": "text/x-python",
   "name": "python",
   "nbconvert_exporter": "python",
   "pygments_lexer": "ipython3",
   "version": "3.5.2"
  }
 },
 "nbformat": 4,
 "nbformat_minor": 0
}
